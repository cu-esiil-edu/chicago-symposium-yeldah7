{
 "cells": [
  {
   "cell_type": "markdown",
   "id": "e812e3a4-57f5-45a0-bd81-100de47e3576",
   "metadata": {},
   "source": [
    "# STEP 1: Import packages\n",
    "\n",
    "### Python **packages** let you use code written by experts around the world\n",
    "\n",
    "Because Python is open source, lots of different people and\n",
    "organizations can contribute (including you!). Many contributions are in\n",
    "the form of **packages** which do not come with a standard Python\n",
    "download.\n",
    "\n",
    "<link rel=\"stylesheet\" type=\"text/css\" href=\"./assets/styles.css\"><div class=\"callout callout-style-default callout-titled callout-read\"><div class=\"callout-header\"><div class=\"callout-icon-container\"><i class=\"callout-icon\"></i></div><div class=\"callout-title-container flex-fill\">Read More: Packages need to be installed and imported.</div></div><div class=\"callout-body-container callout-body\"><p>Learn more about using Python packages. How do you find and use\n",
    "packages? What is the difference between installing and importing\n",
    "packages? When do you need to do each one? <a\n",
    "href=\"https://www.earthdatascience.org/courses/intro-to-earth-data-science/python-code-fundamentals/use-python-packages/\">This\n",
    "article on Python packages</a> will walk you through the basics.</p></div></div>\n",
    "\n",
    "In the cell below, someone was trying to import the **pandas package**,\n",
    "which helps us to work with [**tabular data** such as comma-separated\n",
    "value or csv\n",
    "files](https://www.earthdatascience.org/courses/intro-to-earth-data-science/file-formats/use-text-files/).\n",
    "\n",
    "<link rel=\"stylesheet\" type=\"text/css\" href=\"./assets/styles.css\"><div class=\"callout callout-style-default callout-titled callout-task\"><div class=\"callout-header\"><div class=\"callout-icon-container\"><i class=\"callout-icon\"></i></div><div class=\"callout-title-container flex-fill\">Try It: Import a package</div></div><div class=\"callout-body-container callout-body\"><ol type=\"1\">\n",
    "<li>Correct the typo below to properly import the pandas package under\n",
    "its <strong>alias</strong> pd.</li>\n",
    "<li>Run the cell to import pandas</li>\n",
    "</ol></div></div>\n",
    "\n",
    "> **Warning**\n",
    ">\n",
    "> Make sure to run your code in the right **environment** to avoid\n",
    "> import errors!\n",
    ">\n",
    "> We’ve created a coding **environment** for you to use that already has\n",
    "> all the software and packages you will need! When you try to run some\n",
    "> code, you may be prompted to select a **kernel**. The **kernel**\n",
    "> refers to the version of Python you are using. You should use the\n",
    "> **base** kernel, which should be the default option for you."
   ]
  },
  {
   "cell_type": "code",
   "execution_count": 1,
   "id": "bb12d740",
   "metadata": {
    "highlight": true
   },
   "outputs": [],
   "source": [
    "# Import libraries\n",
    "import pandas as pd"
   ]
  },
  {
   "cell_type": "markdown",
   "id": "127ee87b-14b6-45a9-ab3a-ac206d10eae1",
   "metadata": {},
   "source": [
    "## STEP 2: Download Data\n",
    "\n",
    "### Global Historical Climatology Network\n",
    "\n",
    "One way scientists know that the climate is changing is by looking at\n",
    "records from temperature sensors around the globe. Some of these sensors\n",
    "have been recording data for over a century! For this activity, we’ll\n",
    "get daily maximum temperature measurements from the [Global Historical\n",
    "Climate Network\n",
    "daily](https://www.ncei.noaa.gov/products/land-based-station/global-historical-climatology-network-daily)\n",
    "(Menne et al. 2012), an openly available and extensively validated\n",
    "global network of temperature sensors.\n",
    "\n",
    "<figure>\n",
    "<img\n",
    "src=\"https://upload.wikimedia.org/wikipedia/commons/a/ab/GHCN_Temperature_Stations.png\"\n",
    "alt=\"The Global Historical Climatology Network Source: CC BY-SA 3.0, https://commons.wikimedia.org/w/index.php?curid=2084097\" />\n",
    "<figcaption aria-hidden=\"true\">The Global Historical Climatology Network\n",
    "Source: CC BY-SA 3.0,\n",
    "https://commons.wikimedia.org/w/index.php?curid=2084097</figcaption>\n",
    "</figure>\n",
    "\n",
    "The GHCNd data are available through by the National Oceanic and\n",
    "Atmospheric Administration’s (NOAA) National Centers for Environmental\n",
    "Information (NCEI) Climate Data Online [search\n",
    "tool](https://www.ncdc.noaa.gov/cdo-web/search). We can get also get\n",
    "these data using code by contacting NCEI’s API.\n",
    "\n",
    "> **What’s an API?**\n",
    ">\n",
    "> An API, or Application Programming Interface, is how computers talk to\n",
    "> each other.\n",
    "\n",
    "<link rel=\"stylesheet\" type=\"text/css\" href=\"./assets/styles.css\"><div class=\"callout callout-style-default callout-titled callout-read\"><div class=\"callout-header\"><div class=\"callout-icon-container\"><i class=\"callout-icon\"></i></div><div class=\"callout-title-container flex-fill\">Read More</div></div><div class=\"callout-body-container callout-body\"><p>Read more about <a\n",
    "href=\"https://www.ncei.noaa.gov/support/access-data-service-api-user-documentation\">NCEI’s\n",
    "API</a> and the <a href=\"https://www.ncei.noaa.gov/cdo-web/\">Climate\n",
    "Data Online</a> database.</p></div></div>\n",
    "\n",
    "For this activity we have created URLs that contacts the NCEI API for\n",
    "two climate stations in the greater Chicago area. We will walk through\n",
    "each line of the url to explain what it is doing.\n",
    "\n",
    "### O’Hare International Airport\n",
    "\n",
    "Chicago O’Hare International Airport (ORD) is one of the busiest\n",
    "airports in the world, serving as a major hub for both domestic and\n",
    "international flights. Located about 14 miles northwest of downtown\n",
    "Chicago, it offers flights to more than 200 destinations and handles\n",
    "over 83 million passengers annually. It is home to Chicago’s official\n",
    "meteorological station. It creates an urban heat island due to the\n",
    "amount of concrete and asphalt needed to support the infrastructure.\n",
    "\n",
    "**Station ID: USW00094846**\n",
    "\n",
    "<link rel=\"stylesheet\" type=\"text/css\" href=\"./assets/styles.css\"><div class=\"callout callout-style-default callout-titled callout-task\"><div class=\"callout-header\"><div class=\"callout-icon-container\"><i class=\"callout-icon\"></i></div><div class=\"callout-title-container flex-fill\">Try It: Build your API URL</div></div><div class=\"callout-body-container callout-body\"><ol type=\"1\">\n",
    "<li>Add the station ID for the O’Hare station (USW00094846) into the URL\n",
    "below</li>\n",
    "<li>Run the code to store the URL in Python</li>\n",
    "</ol></div></div>\n",
    "\n",
    "> **What if the API is down?**\n",
    ">\n",
    "> Getting data from APIs relies on internet services you don’t have\n",
    "> control over. If you are getting a response something like\n",
    "> `503: Service Unavailable`, it may be that the API is down\n",
    "> temperarily! If that happens during the workshop, we’ll have you use\n",
    "> some data we’ve already downloaded. That’s what `ohare_path` is for –\n",
    "> with any luck we won’t need it."
   ]
  },
  {
   "cell_type": "code",
   "execution_count": 2,
   "id": "3ac1b9ce",
   "metadata": {
    "highlight": true
   },
   "outputs": [
    {
     "data": {
      "text/plain": [
       "'https://www.ncei.noaa.gov/access/services/data/v1?dataset=daily-summaries&dataTypes=TMAX&stations=USW00094846&startDate=2024-06-01&endDate=2024-06-30&units=standard'"
      ]
     },
     "execution_count": 2,
     "metadata": {},
     "output_type": "execute_result"
    }
   ],
   "source": [
    "# Create a URL API call for the O'Hare climate station\n",
    "ohare_url = (\n",
    "    'https://www.ncei.noaa.gov/access/services/data/v1?'\n",
    "    'dataset=daily-summaries'\n",
    "    '&dataTypes=TMAX'\n",
    "    '&stations=USW00094846'\n",
    "    '&startDate=2024-06-01'\n",
    "    '&endDate=2024-06-30'\n",
    "    '&units=standard')\n",
    "\n",
    "# Path to local data file (Codespaces only)\n",
    "ohare_path = 'ohare-temps.csv'\n",
    "\n",
    "# Check the URL\n",
    "ohare_url"
   ]
  },
  {
   "cell_type": "markdown",
   "id": "357b97ec-71cb-44c7-ad61-8c4a1f9f52e4",
   "metadata": {},
   "source": [
    "<link rel=\"stylesheet\" type=\"text/css\" href=\"./assets/styles.css\"><div class=\"callout callout-style-default callout-titled callout-task\"><div class=\"callout-header\"><div class=\"callout-icon-container\"><i class=\"callout-icon\"></i></div><div class=\"callout-title-container flex-fill\">Try It: Load maximum temperature data for O'Hare</div></div><div class=\"callout-body-container callout-body\"><ol type=\"1\">\n",
    "<li>Replace <code>url_or_path</code> with the variable name you used\n",
    "above to store the O’Hare station API URL (or O’Hare data path if the\n",
    "API is down). Run the code to make sure you’ve got it right!</li>\n",
    "<li>Uncomment lines 4 and 5. Then, replace <code>date_column_name</code>\n",
    "with the actual column name that has the date.</li>\n",
    "<li>Run the code, again. Check that the date column is the\n",
    "<strong>index</strong> and that it is parsed into a\n",
    "<code>DateTimeIndex</code> using the <code>.describe()</code>\n",
    "method.</li>\n",
    "</ol></div></div>"
   ]
  },
  {
   "cell_type": "code",
   "execution_count": 4,
   "id": "b819105d",
   "metadata": {
    "highlight": true
   },
   "outputs": [
    {
     "data": {
      "text/html": [
       "<div>\n",
       "<style scoped>\n",
       "    .dataframe tbody tr th:only-of-type {\n",
       "        vertical-align: middle;\n",
       "    }\n",
       "\n",
       "    .dataframe tbody tr th {\n",
       "        vertical-align: top;\n",
       "    }\n",
       "\n",
       "    .dataframe thead th {\n",
       "        text-align: right;\n",
       "    }\n",
       "</style>\n",
       "<table border=\"1\" class=\"dataframe\">\n",
       "  <thead>\n",
       "    <tr style=\"text-align: right;\">\n",
       "      <th></th>\n",
       "      <th>STATION</th>\n",
       "      <th>TMAX</th>\n",
       "    </tr>\n",
       "    <tr>\n",
       "      <th>DATE</th>\n",
       "      <th></th>\n",
       "      <th></th>\n",
       "    </tr>\n",
       "  </thead>\n",
       "  <tbody>\n",
       "    <tr>\n",
       "      <th>2024-06-01</th>\n",
       "      <td>USW00094846</td>\n",
       "      <td>68</td>\n",
       "    </tr>\n",
       "    <tr>\n",
       "      <th>2024-06-02</th>\n",
       "      <td>USW00094846</td>\n",
       "      <td>77</td>\n",
       "    </tr>\n",
       "    <tr>\n",
       "      <th>2024-06-03</th>\n",
       "      <td>USW00094846</td>\n",
       "      <td>86</td>\n",
       "    </tr>\n",
       "    <tr>\n",
       "      <th>2024-06-04</th>\n",
       "      <td>USW00094846</td>\n",
       "      <td>85</td>\n",
       "    </tr>\n",
       "    <tr>\n",
       "      <th>2024-06-05</th>\n",
       "      <td>USW00094846</td>\n",
       "      <td>79</td>\n",
       "    </tr>\n",
       "  </tbody>\n",
       "</table>\n",
       "</div>"
      ],
      "text/plain": [
       "                STATION  TMAX\n",
       "DATE                         \n",
       "2024-06-01  USW00094846    68\n",
       "2024-06-02  USW00094846    77\n",
       "2024-06-03  USW00094846    86\n",
       "2024-06-04  USW00094846    85\n",
       "2024-06-05  USW00094846    79"
      ]
     },
     "execution_count": 4,
     "metadata": {},
     "output_type": "execute_result"
    },
    {
     "data": {
      "image/png": "[encoded data removed]",
      "text/plain": [
       "<Figure size 640x480 with 1 Axes>"
      ]
     },
     "metadata": {},
     "output_type": "display_data"
    }
   ],
   "source": [
    "# Open data using pandas\n",
    "ohare_df = pd.read_csv(\n",
    "    ohare_url,\n",
    "    parse_dates=True,\n",
    "    index_col='DATE'\n",
    ")\n",
    "\n",
    "# Plot the data using pandas\n",
    "ohare_df.TMAX.plot()\n",
    "\n",
    "# Check the first 5 lines of data\n",
    "ohare_df.head()"
   ]
  },
  {
   "cell_type": "markdown",
   "id": "ced3157b-5fbb-4610-989f-a803b974b304",
   "metadata": {},
   "source": [
    "### Northerly Island\n",
    "\n",
    "Northerly Island is a 91-acre man-made peninsula located along the Lake\n",
    "Michigan shoreline in Chicago. Originally part of Daniel Burnham’s 1909\n",
    "Plan of Chicago, it was transformed into a nature-focused park featuring\n",
    "walking trails, natural habitats, and scenic lakefront views. The site\n",
    "also hosts the Huntington Bank Pavilion, a popular outdoor concert\n",
    "venue.\n",
    "\n",
    "<link rel=\"stylesheet\" type=\"text/css\" href=\"./assets/styles.css\"><div class=\"callout callout-style-default callout-titled callout-task\"><div class=\"callout-header\"><div class=\"callout-icon-container\"><i class=\"callout-icon\"></i></div><div class=\"callout-title-container flex-fill\">Try It: Load data, part 2</div></div><div class=\"callout-body-container callout-body\"><ol type=\"1\">\n",
    "<li>Repeat the above data loading process using the Northerly Island\n",
    "site (<strong>Station ID: USC00111550</strong>)</li>\n",
    "</ol>\n",
    "<div data-__quarto_custom=\"true\" data-__quarto_custom_type=\"Callout\"\n",
    "data-__quarto_custom_context=\"Block\" data-__quarto_custom_id=\"8\">\n",
    "<div data-__quarto_custom_scaffold=\"true\">\n",
    "Make sure to give your new variables different names!\n",
    "</div>\n",
    "<div data-__quarto_custom_scaffold=\"true\">\n",
    "<p>e.g. <code>northerly_url</code> instead of <code>ohare_url</code>.\n",
    "Otherwise, you will write over the data you just downloaded!</p>\n",
    "</div>\n",
    "</div></div></div>"
   ]
  },
  {
   "cell_type": "code",
   "execution_count": 5,
   "id": "8f9be725",
   "metadata": {
    "highlight": true
   },
   "outputs": [],
   "source": [
    "# Create an API call for the Northerly climate station\n",
    "nisland_url = (\n",
    "    'https://www.ncei.noaa.gov/access/services/data/v1?'\n",
    "    'dataset=daily-summaries'\n",
    "    '&dataTypes=TMAX'\n",
    "    '&stations=USC00111550'\n",
    "    '&startDate=2024-06-01'\n",
    "    '&endDate=2024-06-30'\n",
    "    '&units=standard')\n",
    "\n",
    "# Path to local data file (Codespaces only)\n",
    "#nisland_path = 'nisland-temps.csv'\n",
    "\n",
    "# Check the URL\n",
    "nisland_url\n",
    "# Path to local data file (Codespaces only)\n",
    "northerly_path = 'northerly-temps.csv'"
   ]
  },
  {
   "cell_type": "code",
   "execution_count": 6,
   "id": "217d10bd",
   "metadata": {
    "highlight": true
   },
   "outputs": [
    {
     "data": {
      "text/html": [
       "<div>\n",
       "<style scoped>\n",
       "    .dataframe tbody tr th:only-of-type {\n",
       "        vertical-align: middle;\n",
       "    }\n",
       "\n",
       "    .dataframe tbody tr th {\n",
       "        vertical-align: top;\n",
       "    }\n",
       "\n",
       "    .dataframe thead th {\n",
       "        text-align: right;\n",
       "    }\n",
       "</style>\n",
       "<table border=\"1\" class=\"dataframe\">\n",
       "  <thead>\n",
       "    <tr style=\"text-align: right;\">\n",
       "      <th></th>\n",
       "      <th>STATION</th>\n",
       "      <th>TMAX</th>\n",
       "    </tr>\n",
       "    <tr>\n",
       "      <th>DATE</th>\n",
       "      <th></th>\n",
       "      <th></th>\n",
       "    </tr>\n",
       "  </thead>\n",
       "  <tbody>\n",
       "    <tr>\n",
       "      <th>2024-06-01</th>\n",
       "      <td>USC00111550</td>\n",
       "      <td>67</td>\n",
       "    </tr>\n",
       "    <tr>\n",
       "      <th>2024-06-02</th>\n",
       "      <td>USC00111550</td>\n",
       "      <td>67</td>\n",
       "    </tr>\n",
       "    <tr>\n",
       "      <th>2024-06-03</th>\n",
       "      <td>USC00111550</td>\n",
       "      <td>85</td>\n",
       "    </tr>\n",
       "    <tr>\n",
       "      <th>2024-06-04</th>\n",
       "      <td>USC00111550</td>\n",
       "      <td>77</td>\n",
       "    </tr>\n",
       "    <tr>\n",
       "      <th>2024-06-05</th>\n",
       "      <td>USC00111550</td>\n",
       "      <td>79</td>\n",
       "    </tr>\n",
       "  </tbody>\n",
       "</table>\n",
       "</div>"
      ],
      "text/plain": [
       "                STATION  TMAX\n",
       "DATE                         \n",
       "2024-06-01  USC00111550    67\n",
       "2024-06-02  USC00111550    67\n",
       "2024-06-03  USC00111550    85\n",
       "2024-06-04  USC00111550    77\n",
       "2024-06-05  USC00111550    79"
      ]
     },
     "execution_count": 6,
     "metadata": {},
     "output_type": "execute_result"
    },
    {
     "data": {
      "image/png": "[encoded data removed]",
      "text/plain": [
       "<Figure size 640x480 with 1 Axes>"
      ]
     },
     "metadata": {},
     "output_type": "display_data"
    }
   ],
   "source": [
    "# Open data using pandas\n",
    "nisland_df = pd.read_csv(\n",
    "    nisland_url,\n",
    "    parse_dates=True,\n",
    "    index_col='DATE'\n",
    ")\n",
    "\n",
    "# Plot the data using pandas\n",
    "nisland_df.TMAX.plot()\n",
    "\n",
    "# Check the first 5 lines of data\n",
    "nisland_df.head()\n"
   ]
  },
  {
   "cell_type": "markdown",
   "id": "29c10aa8-72e3-46df-bf5b-1fa086e878d2",
   "metadata": {},
   "source": [
    "## STEP 3: Wrangle Data\n",
    "\n",
    "### Select only the columns you want\n",
    "\n",
    "Notice that your data came with a `STATION` column as well as the\n",
    "maximum temperature `TMAX` column. The extra column can make your data a\n",
    "bit unweildy.\n",
    "\n",
    "<link rel=\"stylesheet\" type=\"text/css\" href=\"./assets/styles.css\"><div class=\"callout callout-style-default callout-titled callout-task\"><div class=\"callout-header\"><div class=\"callout-icon-container\"><i class=\"callout-icon\"></i></div><div class=\"callout-title-container flex-fill\">Try It</div></div><div class=\"callout-body-container callout-body\"><p>To select only the <code>TMAX</code> column:</p>\n",
    "<ol type=\"1\">\n",
    "<li>Replace <code>df</code> with the name of your\n",
    "<code>DataFrame</code></li>\n",
    "<li>Replace <code>column_name</code> with the name of the column you\n",
    "want to select</li>\n",
    "<li>Replace <code>tmax_df</code> in all locations with a descriptive\n",
    "name for the new single-column <code>DataFrame</code></li>\n",
    "</ol>\n",
    "<div data-__quarto_custom=\"true\" data-__quarto_custom_type=\"Callout\"\n",
    "data-__quarto_custom_context=\"Block\" data-__quarto_custom_id=\"11\">\n",
    "<div data-__quarto_custom_scaffold=\"true\">\n",
    "What’s with those double square brackets? (<code>[[]]</code>)\n",
    "</div>\n",
    "<div data-__quarto_custom_scaffold=\"true\">\n",
    "<p>If you use single brackets, you will find that you get back something\n",
    "called a <code>Series</code> rather than a <code>DataFrame</code>, which\n",
    "will make things difficult down the road. A <code>Series</code> is a\n",
    "single column of a <code>DataFrame</code>. It still has an index (in\n",
    "this case our dates), but can’t do all the things a\n",
    "<code>DataFrame</code> can do. It also displays as plain text instead of\n",
    "a formatted table, so you can easily tell the difference.</p>\n",
    "</div>\n",
    "</div></div></div>"
   ]
  },
  {
   "cell_type": "code",
   "execution_count": 12,
   "id": "f501c866",
   "metadata": {
    "highlight": true
   },
   "outputs": [],
   "source": [
    "# Select only the TMAX column of the O'Hare data\n",
    "tmax_df = df[['column_name']]\n",
    "tmax_df.describe()"
   ]
  },
  {
   "cell_type": "code",
   "execution_count": 13,
   "id": "54c7a74f",
   "metadata": {
    "highlight": true
   },
   "outputs": [],
   "source": [
    "# Select only the TMAX column of the Northerly data\n",
    "tmax_df = df[['column_name']]\n",
    "tmax_df.describe()"
   ]
  },
  {
   "cell_type": "markdown",
   "id": "fffcd058-d44d-4d8a-9d24-9add7fbaecd2",
   "metadata": {},
   "source": [
    "### Join data\n",
    "\n",
    "Right now, we have data from two stations in two separate `DataFrames`.\n",
    "We could work with that, but to make things go smoother (and learn how\n",
    "to work with `DataFrames`) we can **join** them together.\n",
    "\n",
    "> **What’s a **join**?**\n",
    ">\n",
    "> There are a few different ways to combine `DataFrame`s in Python. A\n",
    "> **join** combines two `DataFrame`s by their **index** (the dates in\n",
    "> our case), checking to make sure that every date matches. In our case,\n",
    "> we could **concatenate** instead without checking the dates, because\n",
    "> all the dates are the same for our two `DataFrame`s. That would\n",
    "> probably be faster! But also, we think it is more error-prone. For\n",
    "> example, it might not tell you that something was wrong if you\n",
    "> accidentally downloaded data from two different years.\n",
    "\n",
    "<link rel=\"stylesheet\" type=\"text/css\" href=\"./assets/styles.css\"><div class=\"callout callout-style-default callout-titled callout-task\"><div class=\"callout-header\"><div class=\"callout-icon-container\"><i class=\"callout-icon\"></i></div><div class=\"callout-title-container flex-fill\">Try It: Join two `DataFrame`s</div></div><div class=\"callout-body-container callout-body\"><p>Starting with the sample code below:</p>\n",
    "<ol type=\"1\">\n",
    "<li>Replace <code>left_df</code> with the name of the first\n",
    "<code>DataFrame</code>. In this case, it doesn’t matter which one you\n",
    "choose to be on the left, but you need to make sure that it matches the\n",
    "<strong>left suffix</strong> label (<code>lsuffix</code>).</li>\n",
    "<li>Replace <code>right_df</code> with the name of the second\n",
    "<code>DataFrame</code>, making sure it matches\n",
    "<code>rsuffix</code>.</li>\n",
    "<li>Run the code and check that your join happened correctly.</li>\n",
    "</ol></div></div>"
   ]
  },
  {
   "cell_type": "code",
   "execution_count": 15,
   "id": "61a18745",
   "metadata": {
    "highlight": true
   },
   "outputs": [],
   "source": [
    "# Join the data\n",
    "tmax_df = (\n",
    "    left_df\n",
    "    .join(\n",
    "        right_df, \n",
    "        lsuffix='_ohare', \n",
    "        rsuffix='_northerly')\n",
    ")\n",
    "tmax_df.head()"
   ]
  },
  {
   "cell_type": "code",
   "execution_count": 17,
   "id": "d9b2bd07",
   "metadata": {},
   "outputs": [],
   "source": [
    "%store tmax_df"
   ]
  },
  {
   "cell_type": "markdown",
   "id": "85c00046-c405-493e-8a6f-c9216869ed61",
   "metadata": {},
   "source": [
    "Menne, Matthew J., Imke Durre, Russell S. Vose, Byron E. Gleason, and\n",
    "Tamara G. Houston. 2012. “An Overview of the Global Historical\n",
    "Climatology Network-Daily Database.” *Journal of Atmospheric and Oceanic\n",
    "Technology* 29 (7): 897–910.\n",
    "<https://doi.org/10.1175/JTECH-D-11-00103.1>."
   ]
  }
 ],
 "metadata": {
  "kernelspec": {
   "display_name": "base",
   "language": "python",
   "name": "python3"
  },
  "language_info": {
   "codemirror_mode": {
    "name": "ipython",
    "version": 3
   },
   "file_extension": ".py",
   "mimetype": "text/x-python",
   "name": "python",
   "nbconvert_exporter": "python",
   "pygments_lexer": "ipython3",
   "version": "3.11.6"
  }
 },
 "nbformat": 4,
 "nbformat_minor": 5
}
